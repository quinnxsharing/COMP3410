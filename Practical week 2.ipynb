{
 "cells": [
  {
   "cell_type": "code",
   "execution_count": 3,
   "id": "e22d2814",
   "metadata": {},
   "outputs": [],
   "source": [
    "student_grades = {'Adam':'CR',\n",
    "'Leo':'HD', 'Max':'D', 'Nicole':'CR', 'Oscar':'P'}"
   ]
  },
  {
   "cell_type": "code",
   "execution_count": 13,
   "id": "e6200fd5",
   "metadata": {},
   "outputs": [
    {
     "name": "stdout",
     "output_type": "stream",
     "text": [
      "Adam CR\n",
      "Leo HD\n",
      "Max D\n",
      "Nicole CR\n",
      "Oscar P\n"
     ]
    }
   ],
   "source": [
    "for i in student_grades:\n",
    "    print (i, student_grades[i])\n",
    "    "
   ]
  },
  {
   "cell_type": "code",
   "execution_count": 14,
   "id": "73f495dc",
   "metadata": {},
   "outputs": [
    {
     "name": "stdout",
     "output_type": "stream",
     "text": [
      "Adam\n",
      "Leo\n",
      "Max\n",
      "Nicole\n",
      "Oscar\n"
     ]
    }
   ],
   "source": [
    "for i in student_grades:\n",
    "    print (i)\n",
    "    "
   ]
  },
  {
   "cell_type": "code",
   "execution_count": 15,
   "id": "ae1cde9e",
   "metadata": {},
   "outputs": [
    {
     "name": "stdout",
     "output_type": "stream",
     "text": [
      "CR\n",
      "HD\n",
      "D\n",
      "CR\n",
      "P\n"
     ]
    }
   ],
   "source": [
    "for i in student_grades:\n",
    "    print (student_grades[i])"
   ]
  },
  {
   "cell_type": "code",
   "execution_count": 19,
   "id": "9e4a28d6",
   "metadata": {},
   "outputs": [],
   "source": [
    "import datetime "
   ]
  },
  {
   "cell_type": "code",
   "execution_count": 20,
   "id": "43409f58",
   "metadata": {},
   "outputs": [],
   "source": [
    "x = datetime.datetime.now()"
   ]
  },
  {
   "cell_type": "code",
   "execution_count": 21,
   "id": "b7b07b6a",
   "metadata": {},
   "outputs": [
    {
     "name": "stdout",
     "output_type": "stream",
     "text": [
      "2023-08-03 13:28:27.106932\n"
     ]
    }
   ],
   "source": [
    "print(x)"
   ]
  },
  {
   "cell_type": "code",
   "execution_count": 24,
   "id": "8fec1ae5",
   "metadata": {},
   "outputs": [],
   "source": [
    "def max_number_in_list(list):\n",
    "    max_number = max(list)\n",
    "    return max_number\n"
   ]
  },
  {
   "cell_type": "code",
   "execution_count": 27,
   "id": "8914d5b2",
   "metadata": {},
   "outputs": [],
   "source": [
    "list=[3,7,5]"
   ]
  },
  {
   "cell_type": "code",
   "execution_count": 28,
   "id": "6866400d",
   "metadata": {},
   "outputs": [
    {
     "name": "stdout",
     "output_type": "stream",
     "text": [
      "7\n"
     ]
    }
   ],
   "source": [
    "print(max_number_in_list(list))"
   ]
  },
  {
   "cell_type": "code",
   "execution_count": 36,
   "id": "9f3e8a86",
   "metadata": {},
   "outputs": [],
   "source": [
    "fruits =['Apple', 'Banana', 'Fig', 'Pear', 'Plum',\n",
    "'Peach', 'Raspberry']"
   ]
  },
  {
   "cell_type": "code",
   "execution_count": 44,
   "id": "191a0c14",
   "metadata": {},
   "outputs": [],
   "source": [
    "indexes = [0, 4, 5]\n",
    "for index in sorted(indexes, reverse=True):\n",
    "    del fruits[index]"
   ]
  },
  {
   "cell_type": "code",
   "execution_count": 45,
   "id": "bc0949fe",
   "metadata": {},
   "outputs": [
    {
     "name": "stdout",
     "output_type": "stream",
     "text": [
      "['Banana', 'Fig', 'Pear', 'Raspberry']\n"
     ]
    }
   ],
   "source": [
    "print(fruits)"
   ]
  },
  {
   "cell_type": "code",
   "execution_count": 46,
   "id": "30fb05a1",
   "metadata": {},
   "outputs": [],
   "source": [
    "lengths = [len(s) for s in fruits]"
   ]
  },
  {
   "cell_type": "code",
   "execution_count": 47,
   "id": "5a6727f2",
   "metadata": {},
   "outputs": [],
   "source": [
    "longest_index = lengths.index(max(lengths))\n"
   ]
  },
  {
   "cell_type": "code",
   "execution_count": 48,
   "id": "4073664e",
   "metadata": {},
   "outputs": [],
   "source": [
    "longest_string = fruits[longest_index]\n"
   ]
  },
  {
   "cell_type": "code",
   "execution_count": 49,
   "id": "bff8d8fe",
   "metadata": {},
   "outputs": [
    {
     "name": "stdout",
     "output_type": "stream",
     "text": [
      "Longest string is : Raspberry\n"
     ]
    }
   ],
   "source": [
    "print(\"Longest string is : \" + longest_string)\n"
   ]
  },
  {
   "cell_type": "code",
   "execution_count": 51,
   "id": "4cda4e9c",
   "metadata": {},
   "outputs": [
    {
     "ename": "TypeError",
     "evalue": "'list' object is not callable",
     "output_type": "error",
     "traceback": [
      "\u001b[0;31m---------------------------------------------------------------------------\u001b[0m",
      "\u001b[0;31mTypeError\u001b[0m                                 Traceback (most recent call last)",
      "\u001b[0;32m/var/folders/3w/v0fr_l556k32qx2gz_y7cfdm0000gn/T/ipykernel_14971/2578309278.py\u001b[0m in \u001b[0;36m<module>\u001b[0;34m\u001b[0m\n\u001b[1;32m      1\u001b[0m \u001b[0mset1\u001b[0m \u001b[0;34m=\u001b[0m  \u001b[0;34m{\u001b[0m\u001b[0;34m'green'\u001b[0m\u001b[0;34m,\u001b[0m \u001b[0;34m'blue'\u001b[0m\u001b[0;34m}\u001b[0m\u001b[0;34m\u001b[0m\u001b[0;34m\u001b[0m\u001b[0m\n\u001b[1;32m      2\u001b[0m \u001b[0mset2\u001b[0m \u001b[0;34m=\u001b[0m \u001b[0;34m{\u001b[0m\u001b[0;34m'blue'\u001b[0m\u001b[0;34m,\u001b[0m \u001b[0;34m'yellow'\u001b[0m\u001b[0;34m}\u001b[0m\u001b[0;34m\u001b[0m\u001b[0;34m\u001b[0m\u001b[0m\n\u001b[0;32m----> 3\u001b[0;31m \u001b[0mlst\u001b[0m \u001b[0;34m=\u001b[0m \u001b[0mlist\u001b[0m\u001b[0;34m(\u001b[0m\u001b[0mset1\u001b[0m\u001b[0;34m)\u001b[0m\u001b[0;34m\u001b[0m\u001b[0;34m\u001b[0m\u001b[0m\n\u001b[0m\u001b[1;32m      4\u001b[0m \u001b[0;32mfor\u001b[0m \u001b[0mitem\u001b[0m \u001b[0;32min\u001b[0m \u001b[0mset2\u001b[0m\u001b[0;34m:\u001b[0m\u001b[0;34m\u001b[0m\u001b[0;34m\u001b[0m\u001b[0m\n\u001b[1;32m      5\u001b[0m     \u001b[0;32mif\u001b[0m \u001b[0mitem\u001b[0m \u001b[0;32mnot\u001b[0m \u001b[0;32min\u001b[0m \u001b[0mlst\u001b[0m\u001b[0;34m:\u001b[0m\u001b[0;34m\u001b[0m\u001b[0;34m\u001b[0m\u001b[0m\n",
      "\u001b[0;31mTypeError\u001b[0m: 'list' object is not callable"
     ]
    }
   ],
   "source": [
    "set1 =  {'green', 'blue'}\n",
    "set2 = {'blue', 'yellow'}\n",
    "lst = list(set1) \n",
    "for item in set2: \n",
    "    if item not in lst: \n",
    "        lst.append(item) \n",
    "lst={item for item in lst} \n",
    " \n",
    "print(lst) "
   ]
  },
  {
   "cell_type": "code",
   "execution_count": null,
   "id": "e21d0cd3",
   "metadata": {},
   "outputs": [],
   "source": []
  }
 ],
 "metadata": {
  "kernelspec": {
   "display_name": "Python 3 (ipykernel)",
   "language": "python",
   "name": "python3"
  },
  "language_info": {
   "codemirror_mode": {
    "name": "ipython",
    "version": 3
   },
   "file_extension": ".py",
   "mimetype": "text/x-python",
   "name": "python",
   "nbconvert_exporter": "python",
   "pygments_lexer": "ipython3",
   "version": "3.9.7"
  }
 },
 "nbformat": 4,
 "nbformat_minor": 5
}
